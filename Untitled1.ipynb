{
  "nbformat": 4,
  "nbformat_minor": 0,
  "metadata": {
    "colab": {
      "provenance": []
    },
    "kernelspec": {
      "name": "python3",
      "display_name": "Python 3"
    },
    "language_info": {
      "name": "python"
    }
  },
  "cells": [
    {
      "cell_type": "code",
      "execution_count": null,
      "metadata": {
        "id": "KO_tefVZGclw"
      },
      "outputs": [],
      "source": [
        "9"
      ]
    },
    {
      "cell_type": "code",
      "source": [
        "import pandas as pd\n",
        "\n",
        "# Buat data sederhana\n",
        "data = {\n",
        "    'Nama': ['Andi', 'Budi', 'Citra', 'Dewi'],\n",
        "    'Nilai Matematika': [80, 95, 78, 88]\n",
        "}\n",
        "\n",
        "# Ubah jadi DataFrame\n",
        "df = pd.DataFrame(data)\n",
        "\n",
        "# Tampilkan data\n",
        "print(df)"
      ],
      "metadata": {
        "id": "MjYh8Pp_G1sL"
      },
      "execution_count": null,
      "outputs": []
    }
  ]
}